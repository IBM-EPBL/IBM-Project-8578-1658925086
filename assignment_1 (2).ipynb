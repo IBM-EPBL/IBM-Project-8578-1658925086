{
  "nbformat": 4,
  "nbformat_minor": 0,
  "metadata": {
    "colab": {
      "provenance": [],
      "collapsed_sections": []
    },
    "kernelspec": {
      "name": "python3",
      "display_name": "Python 3"
    },
    "language_info": {
      "name": "python"
    }
  },
  "cells": [
    {
      "cell_type": "markdown",
      "source": [
        "Basic python\n",
        "\n"
      ],
      "metadata": {
        "id": "wJPkhecHURuR"
      }
    },
    {
      "cell_type": "markdown",
      "source": [
        "1. Split this string"
      ],
      "metadata": {
        "id": "ZnKs1c8LVsiZ"
      }
    },
    {
      "cell_type": "code",
      "source": [
        " s = \"Hi there Sam!\""
      ],
      "metadata": {
        "id": "k6uWfq0AUcgw"
      },
      "execution_count": null,
      "outputs": []
    },
    {
      "cell_type": "code",
      "source": [
        " s= \"Hi there Sam!\"\n",
        " x=s.split()\n",
        " print(x)"
      ],
      "metadata": {
        "colab": {
          "base_uri": "https://localhost:8080/"
        },
        "id": "zh2u9rIIUMc-",
        "outputId": "419c82f8-803e-4056-8dd2-a7c531a5040e"
      },
      "execution_count": null,
      "outputs": [
        {
          "output_type": "stream",
          "name": "stdout",
          "text": [
            "['Hi', 'there', 'Sam!']\n"
          ]
        }
      ]
    },
    {
      "cell_type": "markdown",
      "source": [
        "2. Use .format() to print the following string.\n",
        "output should be : the diameter of earth is 12742kilometers."
      ],
      "metadata": {
        "id": "2V_0mXPyW2UB"
      }
    },
    {
      "cell_type": "code",
      "source": [
        "planet = \"Earth\"\n",
        "diameter = 12742"
      ],
      "metadata": {
        "id": "Txl9uZ9bXNRl"
      },
      "execution_count": null,
      "outputs": []
    },
    {
      "cell_type": "code",
      "execution_count": null,
      "metadata": {
        "colab": {
          "base_uri": "https://localhost:8080/"
        },
        "id": "SzYBMssFUKoI",
        "outputId": "d7d2993b-01c5-4f6f-bfd7-0f5a758fd7d7"
      },
      "outputs": [
        {
          "output_type": "stream",
          "name": "stdout",
          "text": [
            "the diameter ofEarth is 12742 kilometers.\n"
          ]
        }
      ],
      "source": [
        "planet = \"Earth\"\n",
        "diameter = 12742\n",
        "print('the diameter of{} is {} kilometers.'.format(planet,diameter));"
      ]
    },
    {
      "cell_type": "markdown",
      "source": [
        "3. In this next dictionary grab the word \"hello\""
      ],
      "metadata": {
        "id": "4d28JxFRX2f3"
      }
    },
    {
      "cell_type": "code",
      "source": [
        "d = {'k1':[1,2,3,{'tricky':['oh','man','inception',{'target':[1,2,3,'hello']}]}]}"
      ],
      "metadata": {
        "id": "mCBmV0h0X-wS"
      },
      "execution_count": null,
      "outputs": []
    },
    {
      "cell_type": "code",
      "source": [
        "d = {'k1':[1,2,3,{'tricky':['oh','man','inception',{'target':[1,2,3,'hello']}]}]}\n",
        "print(d['k1'][3][\"tricky\"][3]['target'][3])"
      ],
      "metadata": {
        "colab": {
          "base_uri": "https://localhost:8080/"
        },
        "id": "YS2PA0i9Ymig",
        "outputId": "9e5ad46e-4c80-4fc0-9f0d-b30186e7a159"
      },
      "execution_count": null,
      "outputs": [
        {
          "output_type": "stream",
          "name": "stdout",
          "text": [
            "hello\n"
          ]
        }
      ]
    },
    {
      "cell_type": "markdown",
      "source": [
        "Numpy\n"
      ],
      "metadata": {
        "id": "IiT1oz6-ZCpE"
      }
    },
    {
      "cell_type": "code",
      "source": [
        "import numpy as np"
      ],
      "metadata": {
        "id": "KMlcn_t9ZRdi"
      },
      "execution_count": null,
      "outputs": []
    },
    {
      "cell_type": "markdown",
      "source": [
        "4.1 create an array of 10 zeros ?\n",
        "4.2 create an array of 10 fives ?"
      ],
      "metadata": {
        "id": "WakBVnXmZXQK"
      }
    },
    {
      "cell_type": "code",
      "source": [
        "import numpy as np\n",
        "array=np.zeros(10)"
      ],
      "metadata": {
        "id": "hETVeVqYZkUE"
      },
      "execution_count": null,
      "outputs": []
    },
    {
      "cell_type": "code",
      "source": [
        "import numpy as np\n",
        "array=np.ones(10)*5"
      ],
      "metadata": {
        "id": "TRmSBfuTZ0Ob"
      },
      "execution_count": null,
      "outputs": []
    },
    {
      "cell_type": "markdown",
      "source": [
        "5. create an array of all the even integers from 20 to 35"
      ],
      "metadata": {
        "id": "ZanPAwOZZ_r_"
      }
    },
    {
      "cell_type": "code",
      "source": [
        "import numpy as np\n",
        "array=np.arange(20,35,2)"
      ],
      "metadata": {
        "id": "kyzFdtP_aH0l"
      },
      "execution_count": null,
      "outputs": []
    },
    {
      "cell_type": "markdown",
      "source": [
        "6. create a 3x3 matrix with values ranging from 0 to 8"
      ],
      "metadata": {
        "id": "H20xOAGPaT2v"
      }
    },
    {
      "cell_type": "code",
      "source": [
        "import numpy as np\n",
        "x = np.arange(0,9).reshape(3,3)"
      ],
      "metadata": {
        "id": "jF7dHk2VafMX"
      },
      "execution_count": null,
      "outputs": []
    },
    {
      "cell_type": "markdown",
      "source": [
        "7. concatenate a and b \n",
        "   a=np.array([5,6,7]),b=np.array([8,9,10])"
      ],
      "metadata": {
        "id": "uVncFZ_gasCo"
      }
    },
    {
      "cell_type": "code",
      "source": [
        " a = np.array([5,6,7])\n",
        " b = np.array([8,9,10])\n",
        " np.concatenate((a,b),axis=0)"
      ],
      "metadata": {
        "colab": {
          "base_uri": "https://localhost:8080/"
        },
        "id": "4XD1zhEya953",
        "outputId": "05c37258-a7a5-4019-deb6-a3a24bcfc67f"
      },
      "execution_count": null,
      "outputs": [
        {
          "output_type": "execute_result",
          "data": {
            "text/plain": [
              "array([ 5,  6,  7,  8,  9, 10])"
            ]
          },
          "metadata": {},
          "execution_count": 29
        }
      ]
    },
    {
      "cell_type": "markdown",
      "source": [
        "pandas"
      ],
      "metadata": {
        "id": "yHSIZJh1bbie"
      }
    },
    {
      "cell_type": "markdown",
      "source": [
        "8. create a data frame with 3 rows and 2 columns"
      ],
      "metadata": {
        "id": "VAyKk7s9be_n"
      }
    },
    {
      "cell_type": "code",
      "source": [
        "import pandas as pd"
      ],
      "metadata": {
        "id": "8ts6aJM5bkk8"
      },
      "execution_count": null,
      "outputs": []
    },
    {
      "cell_type": "code",
      "source": [
        "import pandas as pd\n",
        "df = pd.DataFrame()"
      ],
      "metadata": {
        "id": "DTZRdRGMbnel"
      },
      "execution_count": null,
      "outputs": []
    },
    {
      "cell_type": "markdown",
      "source": [
        "9. Generate the series of dates from 1st jan,2023 to 10th feb 2023"
      ],
      "metadata": {
        "id": "Iy2tDVN5bx4Y"
      }
    },
    {
      "cell_type": "code",
      "source": [
        "import pandas as pd\n",
        "\n",
        "per1 = pd.date_range(start = '1-1-2023', end = '10-02-2023', freq = '5H')"
      ],
      "metadata": {
        "id": "QRp9s7ABb9IH"
      },
      "execution_count": null,
      "outputs": []
    },
    {
      "cell_type": "markdown",
      "source": [
        "10.create 2D list to DataFrame\n",
        "   Lists =[[1,'aaa',22],[2,'bbb',25],[3,'ccc',24]]"
      ],
      "metadata": {
        "id": "lb9o4xQ5cZus"
      }
    },
    {
      "cell_type": "code",
      "source": [
        " Lists =[[1,'aaa',22],[2,'bbb',25],[3,'ccc',24]]"
      ],
      "metadata": {
        "id": "aa5Z2M_QcvS6"
      },
      "execution_count": null,
      "outputs": []
    },
    {
      "cell_type": "code",
      "source": [
        " import pandas as pd\n",
        " Lists =[[1,'aaa',22],[2,'bbb',25],[3,'ccc',24]]\n",
        " df = pd.DataFrame(Lists,columns = ['num1','char','num2'])"
      ],
      "metadata": {
        "id": "tri1kZeTc2r2"
      },
      "execution_count": null,
      "outputs": []
    }
  ]
}